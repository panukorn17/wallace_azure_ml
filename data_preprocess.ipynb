{
 "cells": [
  {
   "cell_type": "code",
   "execution_count": 1,
   "metadata": {},
   "outputs": [],
   "source": [
    "import io\n",
    "import pandas as pd\n",
    "import os\n",
    "import sys\n",
    "from sys import path\n",
    "from tqdm import tqdm"
   ]
  },
  {
   "cell_type": "code",
   "execution_count": 10,
   "metadata": {},
   "outputs": [
    {
     "data": {
      "text/html": [
       "<div>\n",
       "<style scoped>\n",
       "    .dataframe tbody tr th:only-of-type {\n",
       "        vertical-align: middle;\n",
       "    }\n",
       "\n",
       "    .dataframe tbody tr th {\n",
       "        vertical-align: top;\n",
       "    }\n",
       "\n",
       "    .dataframe thead th {\n",
       "        text-align: right;\n",
       "    }\n",
       "</style>\n",
       "<table border=\"1\" class=\"dataframe\">\n",
       "  <thead>\n",
       "    <tr style=\"text-align: right;\">\n",
       "      <th></th>\n",
       "      <th>1.date</th>\n",
       "      <th>2.origin</th>\n",
       "      <th>3.destination</th>\n",
       "      <th>4.stops</th>\n",
       "      <th>RID</th>\n",
       "      <th>5.schedule_detail</th>\n",
       "    </tr>\n",
       "  </thead>\n",
       "  <tbody>\n",
       "    <tr>\n",
       "      <th>0</th>\n",
       "      <td>2016-01-04</td>\n",
       "      <td>HFD</td>\n",
       "      <td>PAD</td>\n",
       "      <td>17</td>\n",
       "      <td>201601041343260</td>\n",
       "      <td>,location,gbtt_ptd,gbtt_pta,actual_td,actual_t...</td>\n",
       "    </tr>\n",
       "    <tr>\n",
       "      <th>1</th>\n",
       "      <td>2016-01-04</td>\n",
       "      <td>DID</td>\n",
       "      <td>PAD</td>\n",
       "      <td>9</td>\n",
       "      <td>201601041341163</td>\n",
       "      <td>,location,gbtt_ptd,gbtt_pta,actual_td,actual_t...</td>\n",
       "    </tr>\n",
       "    <tr>\n",
       "      <th>2</th>\n",
       "      <td>2016-01-04</td>\n",
       "      <td>BAN</td>\n",
       "      <td>PAD</td>\n",
       "      <td>18</td>\n",
       "      <td>201601041343383</td>\n",
       "      <td>,location,gbtt_ptd,gbtt_pta,actual_td,actual_t...</td>\n",
       "    </tr>\n",
       "    <tr>\n",
       "      <th>3</th>\n",
       "      <td>2016-01-05</td>\n",
       "      <td>HFD</td>\n",
       "      <td>PAD</td>\n",
       "      <td>17</td>\n",
       "      <td>201601051375276</td>\n",
       "      <td>,location,gbtt_ptd,gbtt_pta,actual_td,actual_t...</td>\n",
       "    </tr>\n",
       "    <tr>\n",
       "      <th>4</th>\n",
       "      <td>2016-01-05</td>\n",
       "      <td>BAN</td>\n",
       "      <td>PAD</td>\n",
       "      <td>18</td>\n",
       "      <td>201601051375397</td>\n",
       "      <td>,location,gbtt_ptd,gbtt_pta,actual_td,actual_t...</td>\n",
       "    </tr>\n",
       "    <tr>\n",
       "      <th>...</th>\n",
       "      <td>...</td>\n",
       "      <td>...</td>\n",
       "      <td>...</td>\n",
       "      <td>...</td>\n",
       "      <td>...</td>\n",
       "      <td>...</td>\n",
       "    </tr>\n",
       "    <tr>\n",
       "      <th>49130</th>\n",
       "      <td>2016-12-23</td>\n",
       "      <td>PAD</td>\n",
       "      <td>BRI</td>\n",
       "      <td>7</td>\n",
       "      <td>201612236723370</td>\n",
       "      <td>,location,gbtt_ptd,gbtt_pta,actual_td,actual_t...</td>\n",
       "    </tr>\n",
       "    <tr>\n",
       "      <th>49131</th>\n",
       "      <td>2016-12-30</td>\n",
       "      <td>PAD</td>\n",
       "      <td>BRI</td>\n",
       "      <td>7</td>\n",
       "      <td>201612306723370</td>\n",
       "      <td>,location,gbtt_ptd,gbtt_pta,actual_td,actual_t...</td>\n",
       "    </tr>\n",
       "    <tr>\n",
       "      <th>49132</th>\n",
       "      <td>2016-12-30</td>\n",
       "      <td>PAD</td>\n",
       "      <td>SWA</td>\n",
       "      <td>11</td>\n",
       "      <td>201612306723367</td>\n",
       "      <td>,location,gbtt_ptd,gbtt_pta,actual_td,actual_t...</td>\n",
       "    </tr>\n",
       "    <tr>\n",
       "      <th>49133</th>\n",
       "      <td>2016-12-30</td>\n",
       "      <td>PAD</td>\n",
       "      <td>OXF</td>\n",
       "      <td>7</td>\n",
       "      <td>201612306723389</td>\n",
       "      <td>,location,gbtt_ptd,gbtt_pta,actual_td,actual_t...</td>\n",
       "    </tr>\n",
       "    <tr>\n",
       "      <th>49134</th>\n",
       "      <td>2016-12-30</td>\n",
       "      <td>PAD</td>\n",
       "      <td>OXF</td>\n",
       "      <td>16</td>\n",
       "      <td>201612306723421</td>\n",
       "      <td>,location,gbtt_ptd,gbtt_pta,actual_td,actual_t...</td>\n",
       "    </tr>\n",
       "  </tbody>\n",
       "</table>\n",
       "<p>49135 rows × 6 columns</p>\n",
       "</div>"
      ],
      "text/plain": [
       "           1.date 2.origin 3.destination  4.stops              RID  \\\n",
       "0      2016-01-04      HFD           PAD       17  201601041343260   \n",
       "1      2016-01-04      DID           PAD        9  201601041341163   \n",
       "2      2016-01-04      BAN           PAD       18  201601041343383   \n",
       "3      2016-01-05      HFD           PAD       17  201601051375276   \n",
       "4      2016-01-05      BAN           PAD       18  201601051375397   \n",
       "...           ...      ...           ...      ...              ...   \n",
       "49130  2016-12-23      PAD           BRI        7  201612236723370   \n",
       "49131  2016-12-30      PAD           BRI        7  201612306723370   \n",
       "49132  2016-12-30      PAD           SWA       11  201612306723367   \n",
       "49133  2016-12-30      PAD           OXF        7  201612306723389   \n",
       "49134  2016-12-30      PAD           OXF       16  201612306723421   \n",
       "\n",
       "                                       5.schedule_detail  \n",
       "0      ,location,gbtt_ptd,gbtt_pta,actual_td,actual_t...  \n",
       "1      ,location,gbtt_ptd,gbtt_pta,actual_td,actual_t...  \n",
       "2      ,location,gbtt_ptd,gbtt_pta,actual_td,actual_t...  \n",
       "3      ,location,gbtt_ptd,gbtt_pta,actual_td,actual_t...  \n",
       "4      ,location,gbtt_ptd,gbtt_pta,actual_td,actual_t...  \n",
       "...                                                  ...  \n",
       "49130  ,location,gbtt_ptd,gbtt_pta,actual_td,actual_t...  \n",
       "49131  ,location,gbtt_ptd,gbtt_pta,actual_td,actual_t...  \n",
       "49132  ,location,gbtt_ptd,gbtt_pta,actual_td,actual_t...  \n",
       "49133  ,location,gbtt_ptd,gbtt_pta,actual_td,actual_t...  \n",
       "49134  ,location,gbtt_ptd,gbtt_pta,actual_td,actual_t...  \n",
       "\n",
       "[49135 rows x 6 columns]"
      ]
     },
     "execution_count": 10,
     "metadata": {},
     "output_type": "execute_result"
    }
   ],
   "source": [
    "df1 = pd.read_csv(\"Data/hist_info_DID_PAD_2016.csv\")\n",
    "df2 = pd.read_csv(\"Data/hist_info_PAD_DID_2016.csv\")\n",
    "df = pd.concat([df1, df2]).reset_index(drop=True)\n",
    "df.head(-5)"
   ]
  },
  {
   "cell_type": "code",
   "execution_count": 3,
   "metadata": {},
   "outputs": [],
   "source": [
    "# Assuming the notebook is in the same directory as your DataPreprocessing folder\n",
    "current_path = os.getcwd()\n",
    "\n",
    "dir_path = os.path.join(current_path, \"DataPreprocessing\")\n",
    "sys.path.insert(0, dir_path)\n",
    "\n",
    "from data_clean_02 import data_cleaning\n",
    "from data_structure_next_n_stations_03 import data_structure_next_n_stations\n",
    "from delay_mechanism_04 import delay_mechanism"
   ]
  },
  {
   "cell_type": "code",
   "execution_count": 11,
   "metadata": {},
   "outputs": [
    {
     "name": "stderr",
     "output_type": "stream",
     "text": [
      "  0%|          | 0/49140 [00:00<?, ?it/s]"
     ]
    },
    {
     "name": "stderr",
     "output_type": "stream",
     "text": [
      "100%|██████████| 49140/49140 [02:09<00:00, 379.92it/s]\n"
     ]
    }
   ],
   "source": [
    "df_schedule_detail_list = []\n",
    "for i in tqdm(range(len(df))):\n",
    "    df_schedule_detail = pd.read_csv(io.StringIO(df.iloc[i]['5.schedule_detail']), sep=',', dtype=str)\n",
    "    df_schedule_detail = df_schedule_detail.drop(df_schedule_detail.columns[0], axis = 1)\n",
    "    df_schedule_detail_list.append(df_schedule_detail)\n",
    "# Drop that column\n",
    "df.drop(\"5.schedule_detail\", axis = 1, inplace = True)\n",
    "# Put whatever series you want in its place\n",
    "df[\"5.schedule_detail\"] = df_schedule_detail_list"
   ]
  },
  {
   "cell_type": "code",
   "execution_count": 12,
   "metadata": {},
   "outputs": [
    {
     "name": "stderr",
     "output_type": "stream",
     "text": [
      "2/18 Giving arrival/departure time for starting/terminating stations: 100%|██████████| 49140/49140 [00:57<00:00, 857.74it/s]\n",
      "3/18 Dropping all rows with greater than 10 percent missing data: 100%|██████████| 49140/49140 [02:57<00:00, 276.23it/s]\n",
      "4/18 Extract all trips to find unique trips: 100%|██████████| 46983/46983 [00:25<00:00, 1814.59it/s]\n",
      "5/18 Calculate time taken to travel and dwell time of all trips: 100%|██████████| 46983/46983 [05:10<00:00, 151.48it/s]\n",
      "6/18 Extracting all dwell times: 100%|██████████| 46983/46983 [00:29<00:00, 1608.24it/s]\n",
      "7/18 calculating average and total dwell times: 100%|██████████| 98/98 [00:06<00:00, 15.92it/s]\n",
      "8/18 Find unique OD pairs: 100%|██████████| 46983/46983 [01:00<00:00, 781.25it/s]\n",
      "9/18 Find average time for each OD pair:  21%|██        | 62/298 [00:06<00:25,  9.19it/s]d:\\Wallace\\wallace-azure-ml\\DataPreprocessing\\data_clean_02.py:231: RuntimeWarning: invalid value encountered in double_scalars\n",
      "  average_time_travelled = total_time_travelled/len(df)\n",
      "d:\\Wallace\\wallace-azure-ml\\DataPreprocessing\\data_clean_02.py:232: RuntimeWarning: invalid value encountered in double_scalars\n",
      "  average_time_travelled_predicted = total_time_travelled_predicted/len(df)\n",
      "9/18 Find average time for each OD pair: 100%|██████████| 298/298 [00:32<00:00,  9.25it/s]\n",
      "10/18 Dropping all rows with no information: 100%|██████████| 46983/46983 [04:49<00:00, 162.44it/s]\n",
      "11/18 Calculating the total number of nan values: 100%|██████████| 44805/44805 [01:38<00:00, 453.66it/s]\n"
     ]
    },
    {
     "name": "stdout",
     "output_type": "stream",
     "text": [
      "Total null values = 0.0\n"
     ]
    },
    {
     "name": "stderr",
     "output_type": "stream",
     "text": [
      "12/18 Extracting missing information: 100%|██████████| 44805/44805 [00:05<00:00, 7616.22it/s]\n",
      "13/18 Inputting actual and predicted travel time and dwell time: 100%|██████████| 4884/4884 [00:25<00:00, 192.37it/s]\n",
      "14/18 filling in missing data for actual_arrival_time: 100%|██████████| 4884/4884 [00:09<00:00, 513.54it/s]\n",
      "15/18 Extracting missing departure information: 100%|██████████| 44805/44805 [00:08<00:00, 5461.39it/s]\n",
      "16/18 Inputting actual and predicted travel time and dwell time: 100%|██████████| 2267/2267 [00:13<00:00, 170.93it/s]\n",
      "17/18 filling in missing data for actual_arrival_time: 100%|██████████| 2267/2267 [00:03<00:00, 672.05it/s]\n",
      "11/18 Calculating the total number of nan values: 100%|██████████| 44805/44805 [00:37<00:00, 1186.71it/s]\n"
     ]
    },
    {
     "name": "stdout",
     "output_type": "stream",
     "text": [
      "Total new null values = 0.0\n"
     ]
    },
    {
     "name": "stderr",
     "output_type": "stream",
     "text": [
      "8/18 Find unique OD pairs: 100%|██████████| 44805/44805 [00:48<00:00, 929.14it/s] \n",
      "9/18 Find average time for each OD pair: 100%|██████████| 240/240 [00:25<00:00,  9.59it/s]\n",
      "6/18 Extracting all dwell times: 100%|██████████| 44805/44805 [00:22<00:00, 1980.22it/s]\n",
      "7/18 calculating average and total dwell times: 100%|██████████| 76/76 [00:04<00:00, 15.47it/s]\n",
      "18/18 calculating percentage data missing for historical information: 100%|██████████| 44805/44805 [00:36<00:00, 1230.88it/s]\n",
      "100%|██████████| 4033/4033 [00:00<00:00, 42584.50it/s]\n",
      "100%|██████████| 253/253 [00:00<00:00, 757.38it/s]\n",
      "100%|██████████| 4033/4033 [01:34<00:00, 42.52it/s]\n",
      "100%|██████████| 3930/3930 [00:35<00:00, 111.73it/s]\n",
      "  0%|          | 3/48453 [00:00<27:35, 29.26it/s]d:\\Wallace\\wallace-azure-ml\\DataPreprocessing\\delay_mechanism_04.py:75: SettingWithCopyWarning: \n",
      "A value is trying to be set on a copy of a slice from a DataFrame\n",
      "\n",
      "See the caveats in the documentation: https://pandas.pydata.org/pandas-docs/stable/user_guide/indexing.html#returning-a-view-versus-a-copy\n",
      "  dataset[\"delay_type_2_desc\"][index] = delay_list\n",
      "c:\\Users\\panuk\\anaconda3\\envs\\wallace-delay\\lib\\site-packages\\pandas\\core\\indexing.py:670: SettingWithCopyWarning: \n",
      "A value is trying to be set on a copy of a slice from a DataFrame\n",
      "\n",
      "See the caveats in the documentation: https://pandas.pydata.org/pandas-docs/stable/user_guide/indexing.html#returning-a-view-versus-a-copy\n",
      "  iloc._setitem_with_indexer(indexer, value)\n",
      "100%|██████████| 48453/48453 [04:17<00:00, 188.37it/s]\n",
      "  0%|          | 0/48453 [00:00<?, ?it/s]d:\\Wallace\\wallace-azure-ml\\DataPreprocessing\\delay_mechanism_04.py:121: SettingWithCopyWarning: \n",
      "A value is trying to be set on a copy of a slice from a DataFrame\n",
      "\n",
      "See the caveats in the documentation: https://pandas.pydata.org/pandas-docs/stable/user_guide/indexing.html#returning-a-view-versus-a-copy\n",
      "  dataset[\"delay_type_3_desc\"][index] = delay_list\n",
      "100%|██████████| 48453/48453 [04:30<00:00, 179.45it/s]\n",
      "  0%|          | 20/48453 [00:00<04:04, 197.70it/s]d:\\Wallace\\wallace-azure-ml\\DataPreprocessing\\delay_mechanism_04.py:164: SettingWithCopyWarning: \n",
      "A value is trying to be set on a copy of a slice from a DataFrame\n",
      "\n",
      "See the caveats in the documentation: https://pandas.pydata.org/pandas-docs/stable/user_guide/indexing.html#returning-a-view-versus-a-copy\n",
      "  dataset[\"delay_type_4_desc\"][index] = delay_list\n",
      "100%|██████████| 48453/48453 [04:26<00:00, 182.07it/s]\n",
      "  0%|          | 0/48453 [00:00<?, ?it/s]d:\\Wallace\\wallace-azure-ml\\DataPreprocessing\\delay_mechanism_04.py:206: SettingWithCopyWarning: \n",
      "A value is trying to be set on a copy of a slice from a DataFrame\n",
      "\n",
      "See the caveats in the documentation: https://pandas.pydata.org/pandas-docs/stable/user_guide/indexing.html#returning-a-view-versus-a-copy\n",
      "  dataset[\"delay_type_5_desc\"][index] = delay_list\n",
      "100%|██████████| 48453/48453 [04:40<00:00, 172.83it/s]\n"
     ]
    }
   ],
   "source": [
    "historical_information, station_dwell_time_unique, OD_pairs_unique = data_cleaning(df)\n",
    "data_next_1_station = data_structure_next_n_stations(historical_information, station_dwell_time_unique, OD_pairs_unique, 1)\n",
    "data_next_1_station = delay_mechanism(data_next_1_station)"
   ]
  },
  {
   "cell_type": "code",
   "execution_count": null,
   "metadata": {},
   "outputs": [],
   "source": [
    "data_next_1_station.to_csv(\"Data/data_next_1_station_\"+from_loc+\"_\"+to_loc+\"_\"+data_year+\".csv\",index=False)"
   ]
  }
 ],
 "metadata": {
  "kernelspec": {
   "display_name": "wallace-delay-prediction",
   "language": "python",
   "name": "python3"
  },
  "language_info": {
   "codemirror_mode": {
    "name": "ipython",
    "version": 3
   },
   "file_extension": ".py",
   "mimetype": "text/x-python",
   "name": "python",
   "nbconvert_exporter": "python",
   "pygments_lexer": "ipython3",
   "version": "3.8.18"
  },
  "orig_nbformat": 4
 },
 "nbformat": 4,
 "nbformat_minor": 2
}
